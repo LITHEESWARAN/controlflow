{
 "cells": [
  {
   "cell_type": "code",
   "execution_count": 1,
   "id": "727ae3a8",
   "metadata": {},
   "outputs": [
    {
     "name": "stdout",
     "output_type": "stream",
     "text": [
      "The number is negative.\n"
     ]
    }
   ],
   "source": [
    "# 1. Write a Python program to check if a given number is positive or negative.\n",
    "number = -5\n",
    "\n",
    "if number > 0:\n",
    "    print(\"The number is positive.\")\n",
    "else:\n",
    "    print(\"The number is negative.\")\n"
   ]
  },
  {
   "cell_type": "code",
   "execution_count": 2,
   "id": "cd7f945c",
   "metadata": {},
   "outputs": [
    {
     "name": "stdout",
     "output_type": "stream",
     "text": [
      "You are eligible to vote.\n"
     ]
    }
   ],
   "source": [
    "# 2. Create a program that determines if a person is eligible to vote based on their age.\n",
    "age = 20\n",
    "\n",
    "if age >= 18:\n",
    "    print(\"You are eligible to vote.\")\n",
    "else:\n",
    "    print(\"You are not eligible to vote.\")\n"
   ]
  },
  {
   "cell_type": "code",
   "execution_count": 3,
   "id": "c9ba5e48",
   "metadata": {},
   "outputs": [
    {
     "name": "stdout",
     "output_type": "stream",
     "text": [
      "The maximum number is 20.\n"
     ]
    }
   ],
   "source": [
    "# 3. Develop a program to find the maximum of two numbers using if-else statements.\n",
    "a = 10\n",
    "b = 20\n",
    "\n",
    "if a > b:\n",
    "    print(f\"The maximum number is {a}.\")\n",
    "else:\n",
    "    print(f\"The maximum number is {b}.\")\n"
   ]
  },
  {
   "cell_type": "code",
   "execution_count": 4,
   "id": "f6cdbda7",
   "metadata": {},
   "outputs": [
    {
     "name": "stdout",
     "output_type": "stream",
     "text": [
      "2024 is a leap year.\n"
     ]
    }
   ],
   "source": [
    "# 4. Write a Python script to classify a given year as a leap year or not.\n",
    "year = 2024\n",
    "\n",
    "if (year % 4 == 0 and year % 100 != 0) or (year % 400 == 0):\n",
    "    print(f\"{year} is a leap year.\")\n",
    "else:\n",
    "    print(f\"{year} is not a leap year.\")\n"
   ]
  },
  {
   "cell_type": "code",
   "execution_count": 5,
   "id": "09f22b4e",
   "metadata": {},
   "outputs": [
    {
     "name": "stdout",
     "output_type": "stream",
     "text": [
      "e is a vowel.\n"
     ]
    }
   ],
   "source": [
    "# 5. Create a program that checks whether a character is a vowel or a consonant.\n",
    "char = 'e'\n",
    "\n",
    "if char.lower() in 'aeiou':\n",
    "    print(f\"{char} is a vowel.\")\n",
    "else:\n",
    "    print(f\"{char} is a consonant.\")\n"
   ]
  },
  {
   "cell_type": "code",
   "execution_count": 6,
   "id": "50560a0c",
   "metadata": {},
   "outputs": [
    {
     "name": "stdout",
     "output_type": "stream",
     "text": [
      "7 is odd.\n"
     ]
    }
   ],
   "source": [
    "# 6. Implement a program to determine whether a given number is even or odd.\n",
    "number = 7\n",
    "\n",
    "if number % 2 == 0:\n",
    "    print(f\"{number} is even.\")\n",
    "else:\n",
    "    print(f\"{number} is odd.\")\n"
   ]
  },
  {
   "cell_type": "code",
   "execution_count": 7,
   "id": "670c7004",
   "metadata": {},
   "outputs": [
    {
     "name": "stdout",
     "output_type": "stream",
     "text": [
      "The absolute value of -10 is 10.\n"
     ]
    }
   ],
   "source": [
    "# 7. Write a Python function to calculate the absolute value of a number without using the `abs()` function.\n",
    "number = -10\n",
    "\n",
    "if number < 0:\n",
    "    abs_value = -number\n",
    "else:\n",
    "    abs_value = number\n",
    "\n",
    "print(f\"The absolute value of {number} is {abs_value}.\")\n"
   ]
  },
  {
   "cell_type": "code",
   "execution_count": 8,
   "id": "0104db4f",
   "metadata": {},
   "outputs": [
    {
     "name": "stdout",
     "output_type": "stream",
     "text": [
      "The largest number is 10.\n"
     ]
    }
   ],
   "source": [
    "# 8. Develop a program that determines the largest of three given numbers using if-else statements.\n",
    "a = 5\n",
    "b = 10\n",
    "c = 3\n",
    "\n",
    "if a > b and a > c:\n",
    "    print(f\"The largest number is {a}.\")\n",
    "elif b > a and b > c:\n",
    "    print(f\"The largest number is {b}.\")\n",
    "else:\n",
    "    print(f\"The largest number is {c}.\")\n"
   ]
  },
  {
   "cell_type": "code",
   "execution_count": 9,
   "id": "b755eb2a",
   "metadata": {},
   "outputs": [
    {
     "name": "stdout",
     "output_type": "stream",
     "text": [
      "radar is a palindrome.\n"
     ]
    }
   ],
   "source": [
    "# 9. Create a program that checks if a given string is a palindrome.\n",
    "string = \"radar\"\n",
    "\n",
    "if string == string[::-1]:\n",
    "    print(f\"{string} is a palindrome.\")\n",
    "else:\n",
    "    print(f\"{string} is not a palindrome.\")\n"
   ]
  },
  {
   "cell_type": "code",
   "execution_count": 10,
   "id": "1741ba16",
   "metadata": {},
   "outputs": [
    {
     "name": "stdout",
     "output_type": "stream",
     "text": [
      "The grade is B.\n"
     ]
    }
   ],
   "source": [
    "# 10. Write a Python program to calculate the grade based on a student's score.\n",
    "score = 85\n",
    "\n",
    "if score >= 90:\n",
    "    grade = 'A'\n",
    "elif score >= 80:\n",
    "    grade = 'B'\n",
    "elif score >= 70:\n",
    "    grade = 'C'\n",
    "elif score >= 60:\n",
    "    grade = 'D'\n",
    "else:\n",
    "    grade = 'F'\n",
    "\n",
    "print(f\"The grade is {grade}.\")\n"
   ]
  },
  {
   "cell_type": "code",
   "execution_count": 11,
   "id": "a4ec8ad0",
   "metadata": {},
   "outputs": [
    {
     "name": "stdout",
     "output_type": "stream",
     "text": [
      "The largest number is 25.\n"
     ]
    }
   ],
   "source": [
    "# 11. Write a program to find the largest among three numbers using nested if-else statements.\n",
    "a = 15\n",
    "b = 25\n",
    "c = 10\n",
    "\n",
    "if a > b:\n",
    "    if a > c:\n",
    "        largest = a\n",
    "    else:\n",
    "        largest = c\n",
    "else:\n",
    "    if b > c:\n",
    "        largest = b\n",
    "    else:\n",
    "        largest = c\n",
    "\n",
    "print(f\"The largest number is {largest}.\")\n"
   ]
  },
  {
   "cell_type": "code",
   "execution_count": 12,
   "id": "e4f7cf55",
   "metadata": {},
   "outputs": [
    {
     "name": "stdout",
     "output_type": "stream",
     "text": [
      "The triangle is equilateral.\n"
     ]
    }
   ],
   "source": [
    "# 12. Implement a program to determine if a triangle is equilateral, isosceles, or scalene.\n",
    "side1 = 5\n",
    "side2 = 5\n",
    "side3 = 5\n",
    "\n",
    "if side1 == side2 == side3:\n",
    "    print(\"The triangle is equilateral.\")\n",
    "elif side1 == side2 or side2 == side3 or side1 == side3:\n",
    "    print(\"The triangle is isosceles.\")\n",
    "else:\n",
    "    print(\"The triangle is scalene.\")\n"
   ]
  },
  {
   "cell_type": "code",
   "execution_count": 13,
   "id": "e09e7e6a",
   "metadata": {},
   "outputs": [
    {
     "name": "stdout",
     "output_type": "stream",
     "text": [
      "1900 is a century year but not a leap year.\n"
     ]
    }
   ],
   "source": [
    "# 13. Develop a program that checks if a year is a leap year and also if it is a century year.\n",
    "year = 1900\n",
    "\n",
    "if year % 4 == 0:\n",
    "    if year % 100 == 0:\n",
    "        if year % 400 == 0:\n",
    "            print(f\"{year} is a leap year and a century year.\")\n",
    "        else:\n",
    "            print(f\"{year} is a century year but not a leap year.\")\n",
    "    else:\n",
    "        print(f\"{year} is a leap year.\")\n",
    "else:\n",
    "    print(f\"{year} is not a leap year.\")\n"
   ]
  },
  {
   "cell_type": "code",
   "execution_count": 14,
   "id": "cc6d5795",
   "metadata": {},
   "outputs": [
    {
     "name": "stdout",
     "output_type": "stream",
     "text": [
      "The number is zero.\n"
     ]
    }
   ],
   "source": [
    "# 14. Write a Python script to determine if a number is positive, negative, or zero.\n",
    "number = 0\n",
    "\n",
    "if number > 0:\n",
    "    print(\"The number is positive.\")\n",
    "elif number < 0:\n",
    "    print(\"The number is negative.\")\n",
    "else:\n",
    "    print(\"The number is zero.\")\n"
   ]
  },
  {
   "cell_type": "code",
   "execution_count": 15,
   "id": "bdfd837e",
   "metadata": {},
   "outputs": [
    {
     "name": "stdout",
     "output_type": "stream",
     "text": [
      "The person is a teenager.\n"
     ]
    }
   ],
   "source": [
    "# 15. Create a program to check if a person is a teenager (between 13 and 19 years old).\n",
    "age = 16\n",
    "\n",
    "if age >= 13:\n",
    "    if age <= 19:\n",
    "        print(\"The person is a teenager.\")\n",
    "    else:\n",
    "        print(\"The person is not a teenager.\")\n",
    "else:\n",
    "    print(\"The person is not a teenager.\")\n"
   ]
  },
  {
   "cell_type": "code",
   "execution_count": 16,
   "id": "c8c1ee9f",
   "metadata": {},
   "outputs": [
    {
     "name": "stdout",
     "output_type": "stream",
     "text": [
      "The angle is a right angle.\n"
     ]
    }
   ],
   "source": [
    "# 16. Develop a program that determines the type of angle based on its measure (acute, obtuse, or right).\n",
    "angle = 90\n",
    "\n",
    "if angle < 90:\n",
    "    print(\"The angle is acute.\")\n",
    "elif angle == 90:\n",
    "    print(\"The angle is a right angle.\")\n",
    "else:\n",
    "    print(\"The angle is obtuse.\")\n"
   ]
  },
  {
   "cell_type": "code",
   "execution_count": 18,
   "id": "81356b10",
   "metadata": {},
   "outputs": [
    {
     "name": "stdout",
     "output_type": "stream",
     "text": [
      "The roots are real and different: 5.0 and 2.0.\n"
     ]
    }
   ],
   "source": [
    "# 17. Write a Python program to calculate the roots of a quadratic equation.\n",
    "import math\n",
    "\n",
    "a = 1\n",
    "b = -7\n",
    "c = 10\n",
    "\n",
    "discriminant = b**2 - 4*a*c\n",
    "\n",
    "if discriminant > 0:\n",
    "    root1 = (-b + math.sqrt(discriminant)) / (2*a)\n",
    "    root2 = (-b - math.sqrt(discriminant)) / (2*a)\n",
    "    print(f\"The roots are real and different: {root1} and {root2}.\")\n",
    "elif discriminant == 0:\n",
    "    root = -b / (2*a)\n",
    "    print(f\"The roots are real and equal: {root}.\")\n",
    "else:\n",
    "    real_part = -b / (2*a)\n",
    "    imaginary_part = math.sqrt(-discriminant) / (2*a)\n",
    "    print(f\"The roots are complex: {real_part} + {imaginary_part}i and {real_part} - {imaginary_part}i.\")\n"
   ]
  },
  {
   "cell_type": "code",
   "execution_count": 19,
   "id": "8dbecc52",
   "metadata": {},
   "outputs": [
    {
     "name": "stdout",
     "output_type": "stream",
     "text": [
      "Thursday\n"
     ]
    }
   ],
   "source": [
    "# 18. Implement a program to determine the day of the week based on a user-provided number (1 for Monday, 2 for Tuesday, etc.).\n",
    "day_number = 4\n",
    "\n",
    "if day_number == 1:\n",
    "    print(\"Monday\")\n",
    "elif day_number == 2:\n",
    "    print(\"Tuesday\")\n",
    "elif day_number == 3:\n",
    "    print(\"Wednesday\")\n",
    "elif day_number == 4:\n",
    "    print(\"Thursday\")\n",
    "elif day_number == 5:\n",
    "    print(\"Friday\")\n",
    "elif day_number == 6:\n",
    "    print(\"Saturday\")\n",
    "elif day_number == 7:\n",
    "    print(\"Sunday\")\n",
    "else:\n",
    "    print(\"Invalid day number.\")\n"
   ]
  },
  {
   "cell_type": "code",
   "execution_count": 20,
   "id": "8160fed3",
   "metadata": {},
   "outputs": [
    {
     "name": "stdout",
     "output_type": "stream",
     "text": [
      "2000 is a leap year and divisible by 400.\n"
     ]
    }
   ],
   "source": [
    "# 19. Create a program that determines if a year is a leap year and also if it is evenly divisible by 400.\n",
    "year = 2000\n",
    "\n",
    "if (year % 4 == 0 and year % 100 != 0) or (year % 400 == 0):\n",
    "    if year % 400 == 0:\n",
    "        print(f\"{year} is a leap year and divisible by 400.\")\n",
    "    else:\n",
    "        print(f\"{year} is a leap year.\")\n",
    "else:\n",
    "    print(f\"{year} is not a leap year.\")\n"
   ]
  },
  {
   "cell_type": "code",
   "execution_count": 21,
   "id": "cec97bec",
   "metadata": {},
   "outputs": [
    {
     "name": "stdout",
     "output_type": "stream",
     "text": [
      "29 is a prime number.\n"
     ]
    }
   ],
   "source": [
    "# 20. Develop a program that checks if a given number is prime or not using nested if-else statements.\n",
    "number = 29\n",
    "is_prime = True\n",
    "\n",
    "if number > 1:\n",
    "    for i in range(2, int(number/2) + 1):\n",
    "        if number % i == 0:\n",
    "            is_prime = False\n",
    "            break\n",
    "    if is_prime:\n",
    "        print(f\"{number} is a prime number.\")\n",
    "    else:\n",
    "        print(f\"{number} is not a prime number.\")\n",
    "else:\n",
    "    print(f\"{number} is not a prime number.\")\n"
   ]
  },
  {
   "cell_type": "code",
   "execution_count": 22,
   "id": "7cbc1797",
   "metadata": {},
   "outputs": [
    {
     "name": "stdout",
     "output_type": "stream",
     "text": [
      "The grade is C.\n"
     ]
    }
   ],
   "source": [
    "# 21. Write a Python program to assign grades based on different ranges of scores using elif statements.\n",
    "score = 78\n",
    "\n",
    "if score >= 90:\n",
    "    grade = 'A'\n",
    "elif score >= 80:\n",
    "    grade = 'B'\n",
    "elif score >= 70:\n",
    "    grade = 'C'\n",
    "elif score >= 60:\n",
    "    grade = 'D'\n",
    "else:\n",
    "    grade = 'F'\n",
    "\n",
    "print(f\"The grade is {grade}.\")\n"
   ]
  },
  {
   "cell_type": "code",
   "execution_count": 23,
   "id": "5eea1fc0",
   "metadata": {},
   "outputs": [
    {
     "name": "stdout",
     "output_type": "stream",
     "text": [
      "The triangle is equilateral.\n"
     ]
    }
   ],
   "source": [
    "# 22. Implement a program to determine the type of a triangle based on its angles.\n",
    "angle1 = 60\n",
    "angle2 = 60\n",
    "angle3 = 60\n",
    "\n",
    "if angle1 == angle2 == angle3 == 60:\n",
    "    print(\"The triangle is equilateral.\")\n",
    "elif angle1 == 90 or angle2 == 90 or angle3 == 90:\n",
    "    print(\"The triangle is a right triangle.\")\n",
    "elif angle1 < 90 and angle2 < 90 and angle3 < 90:\n",
    "    print(\"The triangle is acute.\")\n",
    "else:\n",
    "    print(\"The triangle is obtuse.\")\n"
   ]
  },
  {
   "cell_type": "code",
   "execution_count": 24,
   "id": "1a36b0ab",
   "metadata": {},
   "outputs": [
    {
     "name": "stdout",
     "output_type": "stream",
     "text": [
      "BMI category is: Normal weight.\n"
     ]
    }
   ],
   "source": [
    "# 23. Develop a program to categorize a given person's BMI into underweight, normal, overweight, or obese using elif statements.\n",
    "bmi = 24.5\n",
    "\n",
    "if bmi < 18.5:\n",
    "    category = \"Underweight\"\n",
    "elif 18.5 <= bmi < 24.9:\n",
    "    category = \"Normal weight\"\n",
    "elif 25.0 <= bmi < 29.9:\n",
    "    category = \"Overweight\"\n",
    "else:\n",
    "    category = \"Obese\"\n",
    "\n",
    "print(f\"BMI category is: {category}.\")\n"
   ]
  },
  {
   "cell_type": "code",
   "execution_count": 25,
   "id": "d560a7bb",
   "metadata": {},
   "outputs": [
    {
     "name": "stdout",
     "output_type": "stream",
     "text": [
      "The number is zero.\n"
     ]
    }
   ],
   "source": [
    "# 24. Create a program that determines whether a given number is positive, negative, or zero using elif statements.\n",
    "number = 0\n",
    "\n",
    "if number > 0:\n",
    "    print(\"The number is positive.\")\n",
    "elif number < 0:\n",
    "    print(\"The number is negative.\")\n",
    "else:\n",
    "    print(\"The number is zero.\")\n"
   ]
  },
  {
   "cell_type": "code",
   "execution_count": 26,
   "id": "fece756a",
   "metadata": {},
   "outputs": [
    {
     "name": "stdout",
     "output_type": "stream",
     "text": [
      "A is an uppercase letter.\n"
     ]
    }
   ],
   "source": [
    "# 25. Write a Python script to determine the type of a character (uppercase, lowercase, or special) using elif statements.\n",
    "char = 'A'\n",
    "\n",
    "if char.isupper():\n",
    "    print(f\"{char} is an uppercase letter.\")\n",
    "elif char.islower():\n",
    "    print(f\"{char} is a lowercase letter.\")\n",
    "elif char.isdigit():\n",
    "    print(f\"{char} is a digit.\")\n",
    "else:\n",
    "    print(f\"{char} is a special character.\")\n"
   ]
  },
  {
   "cell_type": "code",
   "execution_count": 27,
   "id": "9cec4ab2",
   "metadata": {},
   "outputs": [
    {
     "name": "stdout",
     "output_type": "stream",
     "text": [
      "Enter the purchase amount: 500\n",
      "The discounted price is: $450.00\n"
     ]
    }
   ],
   "source": [
    "# 26. Implement a program to calculate the discounted price based on different purchase amounts using elif statements.\n",
    "\n",
    "amount = float(input(\"Enter the purchase amount: \"))\n",
    "\n",
    "if amount >= 1000:\n",
    "    discount = 0.20  # 20% discount\n",
    "elif amount >= 500:\n",
    "    discount = 0.10  # 10% discount\n",
    "elif amount >= 100:\n",
    "    discount = 0.05  # 5% discount\n",
    "else:\n",
    "    discount = 0.00  # No discount\n",
    "\n",
    "discounted_price = amount * (1 - discount)\n",
    "print(f\"The discounted price is: ${discounted_price:.2f}\")\n"
   ]
  },
  {
   "cell_type": "code",
   "execution_count": 28,
   "id": "fe9fe751",
   "metadata": {},
   "outputs": [
    {
     "name": "stdout",
     "output_type": "stream",
     "text": [
      "Enter the electricity consumption in kWh: 79\n",
      "The electricity bill is: $39.50\n"
     ]
    }
   ],
   "source": [
    "# 27. Develop a program to calculate the electricity bill based on different consumption slabs using elif statements.\n",
    "\n",
    "consumption = float(input(\"Enter the electricity consumption in kWh: \"))\n",
    "\n",
    "if consumption <= 100:\n",
    "    bill = consumption * 0.50  # $0.50 per kWh\n",
    "elif consumption <= 300:\n",
    "    bill = (100 * 0.50) + ((consumption - 100) * 0.75)  # $0.75 per kWh for next 200 kWh\n",
    "elif consumption <= 500:\n",
    "    bill = (100 * 0.50) + (200 * 0.75) + ((consumption - 300) * 1.20)  # $1.20 per kWh for next 200 kWh\n",
    "else:\n",
    "    bill = (100 * 0.50) + (200 * 0.75) + (200 * 1.20) + ((consumption - 500) * 1.50)  # $1.50 per kWh for above 500 kWh\n",
    "\n",
    "print(f\"The electricity bill is: ${bill:.2f}\")\n"
   ]
  },
  {
   "cell_type": "code",
   "execution_count": 29,
   "id": "3c807672",
   "metadata": {},
   "outputs": [
    {
     "name": "stdout",
     "output_type": "stream",
     "text": [
      "Enter length of side 1: 1\n",
      "Enter length of side 2: 56\n",
      "Enter length of side 3: 89\n",
      "Enter length of side 4: 89\n",
      "Enter angle 1 (in degrees): 45\n",
      "Enter angle 2 (in degrees): 89\n",
      "Enter angle 3 (in degrees): 56\n",
      "Enter angle 4 (in degrees): 87\n",
      "The input does not represent a valid quadrilateral.\n"
     ]
    }
   ],
   "source": [
    "# 28. Create a program to determine the type of quadrilateral based on its angles and sides using elif statements.\n",
    "\n",
    "sides = [float(input(f\"Enter length of side {i+1}: \")) for i in range(4)]\n",
    "angles = [float(input(f\"Enter angle {i+1} (in degrees): \")) for i in range(4)]\n",
    "\n",
    "if len(set(sides)) == 1 and len(set(angles)) == 1 and angles[0] == 90:\n",
    "    print(\"The quadrilateral is a square.\")\n",
    "elif len(set(sides)) == 2 and len(set(angles)) == 1 and angles[0] == 90:\n",
    "    print(\"The quadrilateral is a rectangle.\")\n",
    "elif len(set(sides)) == 2 and len(set(angles)) == 2:\n",
    "    print(\"The quadrilateral is a rhombus or a parallelogram.\")\n",
    "elif angles[0] + angles[1] + angles[2] + angles[3] == 360:\n",
    "    print(\"The quadrilateral is a general quadrilateral.\")\n",
    "else:\n",
    "    print(\"The input does not represent a valid quadrilateral.\")\n"
   ]
  },
  {
   "cell_type": "code",
   "execution_count": 30,
   "id": "4ee45715",
   "metadata": {},
   "outputs": [
    {
     "name": "stdout",
     "output_type": "stream",
     "text": [
      "Enter the month number (1-12): 5\n",
      "It's spring.\n"
     ]
    }
   ],
   "source": [
    "# 29. Write a Python script to determine the season based on a user-provided month using elif statements.\n",
    "\n",
    "month = int(input(\"Enter the month number (1-12): \"))\n",
    "\n",
    "if month in [12, 1, 2]:\n",
    "    print(\"It's winter.\")\n",
    "elif month in [3, 4, 5]:\n",
    "    print(\"It's spring.\")\n",
    "elif month in [6, 7, 8]:\n",
    "    print(\"It's summer.\")\n",
    "elif month in [9, 10, 11]:\n",
    "    print(\"It's fall.\")\n",
    "else:\n",
    "    print(\"Invalid month number. Please enter a number between 1 and 12.\")\n"
   ]
  },
  {
   "cell_type": "code",
   "execution_count": 31,
   "id": "55536d79",
   "metadata": {},
   "outputs": [
    {
     "name": "stdout",
     "output_type": "stream",
     "text": [
      "Enter the year: 4\n",
      "Enter the month number (1-12): 5\n",
      "The year 4 is a leap year.\n",
      "Month 5 has 31 days.\n"
     ]
    }
   ],
   "source": [
    "# 30. Implement a program to determine the type of a year (leap or common) and month (30 or 31 days) using elif statements.\n",
    "\n",
    "year = int(input(\"Enter the year: \"))\n",
    "month = int(input(\"Enter the month number (1-12): \"))\n",
    "\n",
    "# Leap year check\n",
    "if (year % 4 == 0 and year % 100 != 0) or (year % 400 == 0):\n",
    "    year_type = \"leap year\"\n",
    "else:\n",
    "    year_type = \"common year\"\n",
    "\n",
    "# Days in month\n",
    "if month in [4, 6, 9, 11]:\n",
    "    days = 30\n",
    "elif month == 2:\n",
    "    days = 29 if year_type == \"leap year\" else 28\n",
    "else:\n",
    "    days = 31\n",
    "\n",
    "print(f\"The year {year} is a {year_type}.\")\n",
    "print(f\"Month {month} has {days} days.\")\n"
   ]
  },
  {
   "cell_type": "code",
   "execution_count": 32,
   "id": "21be9b5e",
   "metadata": {},
   "outputs": [
    {
     "name": "stdout",
     "output_type": "stream",
     "text": [
      "Enter a number: 56\n",
      "The number is positive.\n"
     ]
    }
   ],
   "source": [
    "# 1. Write a Python program that checks if a given number is positive, negative, or zero.\n",
    "\n",
    "num = float(input(\"Enter a number: \"))\n",
    "\n",
    "if num > 0:\n",
    "    print(\"The number is positive.\")\n",
    "elif num < 0:\n",
    "    print(\"The number is negative.\")\n",
    "else:\n",
    "    print(\"The number is zero.\")\n"
   ]
  },
  {
   "cell_type": "code",
   "execution_count": 33,
   "id": "13564707",
   "metadata": {},
   "outputs": [
    {
     "name": "stdout",
     "output_type": "stream",
     "text": [
      "Enter your age: 20\n",
      "You are eligible to vote.\n"
     ]
    }
   ],
   "source": [
    "# 2. Create a program to determine if a person is eligible to vote based on their age.\n",
    "\n",
    "age = int(input(\"Enter your age: \"))\n",
    "\n",
    "if age >= 18:\n",
    "    print(\"You are eligible to vote.\")\n",
    "else:\n",
    "    print(\"You are not eligible to vote.\")\n"
   ]
  },
  {
   "cell_type": "code",
   "execution_count": 34,
   "id": "41c0b062",
   "metadata": {},
   "outputs": [
    {
     "name": "stdout",
     "output_type": "stream",
     "text": [
      "Enter the first number: 34\n",
      "Enter the second number: 67\n",
      "The maximum number is 67.0.\n"
     ]
    }
   ],
   "source": [
    "# 3. Write a program to find the maximum of two given numbers using conditional statements.\n",
    "\n",
    "num1 = float(input(\"Enter the first number: \"))\n",
    "num2 = float(input(\"Enter the second number: \"))\n",
    "\n",
    "if num1 > num2:\n",
    "    print(f\"The maximum number is {num1}.\")\n",
    "elif num2 > num1:\n",
    "    print(f\"The maximum number is {num2}.\")\n",
    "else:\n",
    "    print(\"Both numbers are equal.\")\n"
   ]
  },
  {
   "cell_type": "code",
   "execution_count": 35,
   "id": "fcf278b5",
   "metadata": {},
   "outputs": [
    {
     "name": "stdout",
     "output_type": "stream",
     "text": [
      "Enter the exam score: 87\n",
      "Grade B\n"
     ]
    }
   ],
   "source": [
    "# 4. Develop a program that calculates the grade of a student based on their exam score.\n",
    "\n",
    "score = float(input(\"Enter the exam score: \"))\n",
    "\n",
    "if score >= 90:\n",
    "    print(\"Grade A\")\n",
    "elif score >= 80:\n",
    "    print(\"Grade B\")\n",
    "elif score >= 70:\n",
    "    print(\"Grade C\")\n",
    "elif score >= 60:\n",
    "    print(\"Grade D\")\n",
    "else:\n",
    "    print(\"Grade F\")\n"
   ]
  },
  {
   "cell_type": "code",
   "execution_count": 36,
   "id": "26349d28",
   "metadata": {},
   "outputs": [
    {
     "name": "stdout",
     "output_type": "stream",
     "text": [
      "Enter a year: 2019\n",
      "The year is not a leap year.\n"
     ]
    }
   ],
   "source": [
    "# 5. Create a program that checks if a year is a leap year or not.\n",
    "\n",
    "year = int(input(\"Enter a year: \"))\n",
    "\n",
    "if (year % 4 == 0 and year % 100 != 0) or (year % 400 == 0):\n",
    "    print(\"The year is a leap year.\")\n",
    "else:\n",
    "    print(\"The year is not a leap year.\")\n"
   ]
  },
  {
   "cell_type": "code",
   "execution_count": 37,
   "id": "fd63266d",
   "metadata": {},
   "outputs": [
    {
     "name": "stdout",
     "output_type": "stream",
     "text": [
      "Enter the length of side A: 45\n",
      "Enter the length of side B: 3\n",
      "Enter the length of side C: 89\n",
      "The triangle is scalene.\n"
     ]
    }
   ],
   "source": [
    "# 6. Write a program to classify a triangle based on its sides' lengths.\n",
    "\n",
    "a = float(input(\"Enter the length of side A: \"))\n",
    "b = float(input(\"Enter the length of side B: \"))\n",
    "c = float(input(\"Enter the length of side C: \"))\n",
    "\n",
    "if a == b == c:\n",
    "    print(\"The triangle is equilateral.\")\n",
    "elif a == b or b == c or a == c:\n",
    "    print(\"The triangle is isosceles.\")\n",
    "else:\n",
    "    print(\"The triangle is scalene.\")\n"
   ]
  },
  {
   "cell_type": "code",
   "execution_count": 38,
   "id": "a47484fd",
   "metadata": {},
   "outputs": [
    {
     "name": "stdout",
     "output_type": "stream",
     "text": [
      "Enter the first number: 44\n",
      "Enter the second number: 464\n",
      "Enter the third number: 35\n",
      "The largest number is 464.0.\n"
     ]
    }
   ],
   "source": [
    "# 7. Build a program that determines the largest of three given numbers.\n",
    "\n",
    "num1 = float(input(\"Enter the first number: \"))\n",
    "num2 = float(input(\"Enter the second number: \"))\n",
    "num3 = float(input(\"Enter the third number: \"))\n",
    "\n",
    "if num1 >= num2 and num1 >= num3:\n",
    "    print(f\"The largest number is {num1}.\")\n",
    "elif num2 >= num1 and num2 >= num3:\n",
    "    print(f\"The largest number is {num2}.\")\n",
    "else:\n",
    "    print(f\"The largest number is {num3}.\")\n"
   ]
  },
  {
   "cell_type": "code",
   "execution_count": 40,
   "id": "3f3be419",
   "metadata": {},
   "outputs": [
    {
     "name": "stdout",
     "output_type": "stream",
     "text": [
      "Enter a character: a\n",
      "The character is a vowel.\n"
     ]
    }
   ],
   "source": [
    "# 8. Develop a program that checks whether a character is a vowel or a consonant.\n",
    "\n",
    "char = input(\"Enter a character: \").lower()\n",
    "\n",
    "if char in 'aeiou':\n",
    "    print(\"The character is a vowel.\")\n",
    "elif char.isalpha():\n",
    "    print(\"The character is a consonant.\")\n",
    "else:\n",
    "    print(\"The input is not a letter.\")\n"
   ]
  },
  {
   "cell_type": "code",
   "execution_count": 41,
   "id": "bb95261c",
   "metadata": {},
   "outputs": [
    {
     "name": "stdout",
     "output_type": "stream",
     "text": [
      "Enter the number of items in the cart: 3\n",
      "Enter the price per item: 890\n",
      "The total cost is: $2536.50\n"
     ]
    }
   ],
   "source": [
    "# 9. Create a program to calculate the total cost of a shopping cart based on discounts.\n",
    "\n",
    "items = int(input(\"Enter the number of items in the cart: \"))\n",
    "\n",
    "if items >= 10:\n",
    "    discount = 0.15  # 15% discount\n",
    "elif items >= 5:\n",
    "    discount = 0.10  # 10% discount\n",
    "elif items >= 2:\n",
    "    discount = 0.05  # 5% discount\n",
    "else:\n",
    "    discount = 0.00  # No discount\n",
    "\n",
    "price_per_item = float(input(\"Enter the price per item: \"))\n",
    "total_cost = items * price_per_item * (1 - discount)\n",
    "print(f\"The total cost is: ${total_cost:.2f}\")\n"
   ]
  },
  {
   "cell_type": "code",
   "execution_count": 42,
   "id": "e8ccdb04",
   "metadata": {},
   "outputs": [
    {
     "name": "stdout",
     "output_type": "stream",
     "text": [
      "Enter a number: 678\n",
      "The number is even.\n"
     ]
    }
   ],
   "source": [
    "# 10. Write a program that checks if a given number is even or odd.\n",
    "\n",
    "num = int(input(\"Enter a number: \"))\n",
    "\n",
    "if num % 2 == 0:\n",
    "    print(\"The number is even.\")\n",
    "else:\n",
    "    print(\"The number is odd.\")\n"
   ]
  },
  {
   "cell_type": "code",
   "execution_count": 43,
   "id": "5bfba635",
   "metadata": {},
   "outputs": [
    {
     "name": "stdout",
     "output_type": "stream",
     "text": [
      "Enter coefficient a: 34\n",
      "Enter coefficient b: 56\n",
      "Enter coefficient c: 78\n",
      "The roots of the quadratic equation are (-0.8235294117647058+1.2711872226455476j) and (-0.8235294117647058-1.2711872226455476j).\n"
     ]
    }
   ],
   "source": [
    "# 11. Write a program that calculates the roots of a quadratic equation.\n",
    "\n",
    "import cmath\n",
    "\n",
    "a = float(input(\"Enter coefficient a: \"))\n",
    "b = float(input(\"Enter coefficient b: \"))\n",
    "c = float(input(\"Enter coefficient c: \"))\n",
    "\n",
    "discriminant = cmath.sqrt(b**2 - 4*a*c)\n",
    "root1 = (-b + discriminant) / (2 * a)\n",
    "root2 = (-b - discriminant) / (2 * a)\n",
    "\n",
    "print(f\"The roots of the quadratic equation are {root1} and {root2}.\")\n"
   ]
  },
  {
   "cell_type": "code",
   "execution_count": 44,
   "id": "cf4f73b5",
   "metadata": {},
   "outputs": [
    {
     "name": "stdout",
     "output_type": "stream",
     "text": [
      "Enter the day number (1-7): 6\n",
      "Saturday\n"
     ]
    }
   ],
   "source": [
    "# 12. Create a program that determines the day of the week based on the day number (1-7).\n",
    "\n",
    "day_num = int(input(\"Enter the day number (1-7): \"))\n",
    "\n",
    "if day_num == 1:\n",
    "    print(\"Monday\")\n",
    "elif day_num == 2:\n",
    "    print(\"Tuesday\")\n",
    "elif day_num == 3:\n",
    "    print(\"Wednesday\")\n",
    "elif day_num == 4:\n",
    "    print(\"Thursday\")\n",
    "elif day_num == 5:\n",
    "    print(\"Friday\")\n",
    "elif day_num == 6:\n",
    "    print(\"Saturday\")\n",
    "elif day_num == 7:\n",
    "    print(\"Sunday\")\n",
    "else:\n",
    "    print(\"Invalid day number. Please enter a number between 1 and 7.\")\n"
   ]
  },
  {
   "cell_type": "code",
   "execution_count": 45,
   "id": "233db359",
   "metadata": {},
   "outputs": [
    {
     "name": "stdout",
     "output_type": "stream",
     "text": [
      "Enter a number: 4\n",
      "The factorial of 4 is 24.\n"
     ]
    }
   ],
   "source": [
    "# 13. Develop a program that calculates the factorial of a given number using recursion.\n",
    "\n",
    "def factorial(n):\n",
    "    if n == 0:\n",
    "        return 1\n",
    "    else:\n",
    "        return n * factorial(n - 1)\n",
    "\n",
    "num = int(input(\"Enter a number: \"))\n",
    "print(f\"The factorial of {num} is {factorial(num)}.\")\n"
   ]
  },
  {
   "cell_type": "code",
   "execution_count": 46,
   "id": "6eb49db1",
   "metadata": {},
   "outputs": [
    {
     "name": "stdout",
     "output_type": "stream",
     "text": [
      "Enter the first number: 4\n",
      "Enter the second number: 6\n",
      "Enter the third number: 7\n",
      "The largest number is 7.0.\n"
     ]
    }
   ],
   "source": [
    "# 14. Write a program to find the largest among three numbers without using the `max()` function.\n",
    "\n",
    "num1 = float(input(\"Enter the first number: \"))\n",
    "num2 = float(input(\"Enter the second number: \"))\n",
    "num3 = float(input(\"Enter the third number: \"))\n",
    "\n",
    "if num1 >= num2 and num1 >= num3:\n",
    "    print(f\"The largest number is {num1}.\")\n",
    "elif num2 >= num1 and num2 >= num3:\n",
    "    print(f\"The largest number is {num2}.\")\n",
    "else:\n",
    "    print(f\"The largest number is {num3}.\")\n"
   ]
  },
  {
   "cell_type": "code",
   "execution_count": 47,
   "id": "5eeb55f1",
   "metadata": {},
   "outputs": [
    {
     "name": "stdout",
     "output_type": "stream",
     "text": [
      "ATM Menu\n",
      "1. Check Balance\n",
      "2. Deposit\n",
      "3. Withdraw\n",
      "4. Exit\n",
      "Enter your choice (1-4): 3\n",
      "Enter amount to withdraw: 1\n",
      "Withdrew $1.0. New balance is $999.0.\n",
      "Enter your choice (1-4): 4\n",
      "Thank you for using the ATM.\n"
     ]
    }
   ],
   "source": [
    "# 15. Create a program that simulates a basic ATM transaction menu.\n",
    "\n",
    "balance = 1000\n",
    "\n",
    "print(\"ATM Menu\")\n",
    "print(\"1. Check Balance\")\n",
    "print(\"2. Deposit\")\n",
    "print(\"3. Withdraw\")\n",
    "print(\"4. Exit\")\n",
    "\n",
    "while True:\n",
    "    choice = int(input(\"Enter your choice (1-4): \"))\n",
    "\n",
    "    if choice == 1:\n",
    "        print(f\"Your balance is ${balance}.\")\n",
    "    elif choice == 2:\n",
    "        amount = float(input(\"Enter amount to deposit: \"))\n",
    "        balance += amount\n",
    "        print(f\"Deposited ${amount}. New balance is ${balance}.\")\n",
    "    elif choice == 3:\n",
    "        amount = float(input(\"Enter amount to withdraw: \"))\n",
    "        if amount <= balance:\n",
    "            balance -= amount\n",
    "            print(f\"Withdrew ${amount}. New balance is ${balance}.\")\n",
    "        else:\n",
    "            print(\"Insufficient funds.\")\n",
    "    elif choice == 4:\n",
    "        print(\"Thank you for using the ATM.\")\n",
    "        break\n",
    "    else:\n",
    "        print(\"Invalid choice. Please select a valid option.\")\n"
   ]
  },
  {
   "cell_type": "code",
   "execution_count": 48,
   "id": "9c5f948a",
   "metadata": {},
   "outputs": [
    {
     "name": "stdout",
     "output_type": "stream",
     "text": [
      "Enter a string: hello\n",
      "The string is not a palindrome.\n"
     ]
    }
   ],
   "source": [
    "# 16. Build a program that checks if a given string is a palindrome or not.\n",
    "\n",
    "string = input(\"Enter a string: \").lower().replace(\" \", \"\")\n",
    "\n",
    "if string == string[::-1]:\n",
    "    print(\"The string is a palindrome.\")\n",
    "else:\n",
    "    print(\"The string is not a palindrome.\")\n"
   ]
  },
  {
   "cell_type": "code",
   "execution_count": 50,
   "id": "2a1b3f43",
   "metadata": {},
   "outputs": [
    {
     "name": "stdout",
     "output_type": "stream",
     "text": [
      "Enter numbers separated by spaces: 3 5 6 7 8\n",
      "The average is 6.00.\n"
     ]
    }
   ],
   "source": [
    "# 17. Write a program that calculates the average of a list of numbers, excluding the smallest and largest values.\n",
    "\n",
    "numbers = list(map(float, input(\"Enter numbers separated by spaces: \").split()))\n",
    "\n",
    "if len(numbers) > 2:\n",
    "    numbers.remove(max(numbers))\n",
    "    numbers.remove(min(numbers))\n",
    "    average = sum(numbers) / len(numbers)\n",
    "    print(f\"The average is {average:.2f}.\")\n",
    "else:\n",
    "    print(\"Not enough numbers to calculate the average.\")\n"
   ]
  },
  {
   "cell_type": "code",
   "execution_count": 51,
   "id": "1faea0ed",
   "metadata": {},
   "outputs": [
    {
     "name": "stdout",
     "output_type": "stream",
     "text": [
      "Enter temperature in Celsius: 56\n",
      "The temperature in Fahrenheit is 132.80.\n"
     ]
    }
   ],
   "source": [
    "# 18. Develop a program that converts a given temperature from Celsius to Fahrenheit.\n",
    "\n",
    "celsius = float(input(\"Enter temperature in Celsius: \"))\n",
    "fahrenheit = (celsius * 9/5) + 32\n",
    "print(f\"The temperature in Fahrenheit is {fahrenheit:.2f}.\")\n"
   ]
  },
  {
   "cell_type": "code",
   "execution_count": 52,
   "id": "0b519b08",
   "metadata": {},
   "outputs": [
    {
     "name": "stdout",
     "output_type": "stream",
     "text": [
      "Select operation:\n",
      "1. Addition\n",
      "2. Subtraction\n",
      "3. Multiplication\n",
      "4. Division\n",
      "Enter choice (1/2/3/4): 1\n",
      "Enter first number: 7\n",
      "Enter second number: 8\n",
      "The result is 15.0.\n"
     ]
    }
   ],
   "source": [
    "# 19. Create a program that simulates a basic calculator for addition, subtraction, multiplication, and division.\n",
    "\n",
    "def calculator():\n",
    "    print(\"Select operation:\")\n",
    "    print(\"1. Addition\")\n",
    "    print(\"2. Subtraction\")\n",
    "    print(\"3. Multiplication\")\n",
    "    print(\"4. Division\")\n",
    "\n",
    "    choice = input(\"Enter choice (1/2/3/4): \")\n",
    "\n",
    "    num1 = float(input(\"Enter first number: \"))\n",
    "    num2 = float(input(\"Enter second number: \"))\n",
    "\n",
    "    if choice == '1':\n",
    "        print(f\"The result is {num1 + num2}.\")\n",
    "    elif choice == '2':\n",
    "        print(f\"The result is {num1 - num2}.\")\n",
    "    elif choice == '3':\n",
    "        print(f\"The result is {num1 * num2}.\")\n",
    "    elif choice == '4':\n",
    "        if num2 != 0:\n",
    "            print(f\"The result is {num1 / num2}.\")\n",
    "        else:\n",
    "            print(\"Division by zero is not allowed.\")\n",
    "    else:\n",
    "        print(\"Invalid input.\")\n",
    "\n",
    "calculator()\n"
   ]
  },
  {
   "cell_type": "code",
   "execution_count": 53,
   "id": "8b580444",
   "metadata": {},
   "outputs": [
    {
     "name": "stdout",
     "output_type": "stream",
     "text": [
      "Enter coefficient a: 3\n",
      "Enter coefficient b: 6\n",
      "Enter coefficient c: 8\n",
      "Enter coefficient d: 7\n",
      "The roots of the cubic equation are: (-3.8462925634142913+0j), (0.9231462817071452-2.9859418892176115j), (0.9231462817071472+2.9859418892176106j)\n"
     ]
    }
   ],
   "source": [
    "# 20. Write a program that determines the roots of a cubic equation using the Cardano formula.\n",
    "\n",
    "import cmath\n",
    "\n",
    "def cubic_roots(a, b, c, d):\n",
    "    delta0 = b**2 - 3*a*c\n",
    "    delta1 = 2*b**3 - 9*a*b*c + 27*a**2*d\n",
    "\n",
    "    C = cmath.sqrt((delta1 + cmath.sqrt(delta1**2 - 4*delta0**3)) / 2)\n",
    "\n",
    "    roots = []\n",
    "    for k in range(3):\n",
    "        theta = (2 * cmath.pi * k) / 3\n",
    "        root = (-1 / (3 * a)) * (b + cmath.exp(1j * theta) * C + delta0 / (cmath.exp(1j * theta) * C))\n",
    "        roots.append(root)\n",
    "    \n",
    "    return roots\n",
    "\n",
    "a = float(input(\"Enter coefficient a: \"))\n",
    "b = float(input(\"Enter coefficient b: \"))\n",
    "c = float(input(\"Enter coefficient c: \"))\n",
    "d = float(input(\"Enter coefficient d: \"))\n",
    "\n",
    "roots = cubic_roots(a, b, c, d)\n",
    "print(f\"The roots of the cubic equation are: {roots[0]}, {roots[1]}, {roots[2]}\")\n"
   ]
  },
  {
   "cell_type": "code",
   "execution_count": 55,
   "id": "60b3e8af",
   "metadata": {},
   "outputs": [
    {
     "name": "stdout",
     "output_type": "stream",
     "text": [
      "Enter your annual income: 56000\n",
      "Your income tax is: $5200.00\n"
     ]
    }
   ],
   "source": [
    "# 21. Create a program that calculates the income tax based on the user's income and tax brackets.\n",
    "\n",
    "income = float(input(\"Enter your annual income: \"))\n",
    "\n",
    "if income <= 10000:\n",
    "    tax = 0\n",
    "elif income <= 50000:\n",
    "    tax = (income - 10000) * 0.10\n",
    "elif income <= 100000:\n",
    "    tax = (40000 * 0.10) + (income - 50000) * 0.20\n",
    "else:\n",
    "    tax = (40000 * 0.10) + (50000 * 0.20) + (income - 100000) * 0.30\n",
    "\n",
    "print(f\"Your income tax is: ${tax:.2f}\")\n"
   ]
  },
  {
   "cell_type": "code",
   "execution_count": 1,
   "id": "ff3ac5b0",
   "metadata": {},
   "outputs": [
    {
     "name": "stdout",
     "output_type": "stream",
     "text": [
      "Enter rock, paper, or scissors: rock\n",
      "You lose!\n",
      "Computer chose: paper\n"
     ]
    }
   ],
   "source": [
    "import random\n",
    "\n",
    "# 22. Write a program that simulates a rock-paper-scissors game against the computer.\n",
    "\n",
    "choices = [\"rock\", \"paper\", \"scissors\"]\n",
    "computer_choice = random.choice(choices)\n",
    "\n",
    "user_choice = input(\"Enter rock, paper, or scissors: \").lower()\n",
    "\n",
    "if user_choice == computer_choice:\n",
    "    print(\"It's a tie!\")\n",
    "elif (user_choice == \"rock\" and computer_choice == \"scissors\") or \\\n",
    "     (user_choice == \"paper\" and computer_choice == \"rock\") or \\\n",
    "     (user_choice == \"scissors\" and computer_choice == \"paper\"):\n",
    "    print(\"You win!\")\n",
    "else:\n",
    "    print(\"You lose!\")\n",
    "\n",
    "print(f\"Computer chose: {computer_choice}\")\n"
   ]
  },
  {
   "cell_type": "code",
   "execution_count": 2,
   "id": "8ec1d876",
   "metadata": {},
   "outputs": [
    {
     "name": "stdout",
     "output_type": "stream",
     "text": [
      "Enter the desired password length: 5\n",
      "Enter the desired complexity (1-4): 3\n",
      "Generated password: 3ivVi\n"
     ]
    }
   ],
   "source": [
    "import random\n",
    "import string\n",
    "\n",
    "# 23. Develop a program that generates a random password based on user preferences (length, complexity).\n",
    "\n",
    "def generate_password(length, complexity):\n",
    "    if complexity == 1:\n",
    "        chars = string.ascii_lowercase\n",
    "    elif complexity == 2:\n",
    "        chars = string.ascii_letters\n",
    "    elif complexity == 3:\n",
    "        chars = string.ascii_letters + string.digits\n",
    "    elif complexity == 4:\n",
    "        chars = string.ascii_letters + string.digits + string.punctuation\n",
    "    else:\n",
    "        raise ValueError(\"Complexity must be between 1 and 4\")\n",
    "    \n",
    "    password = ''.join(random.choice(chars) for _ in range(length))\n",
    "    return password\n",
    "\n",
    "length = int(input(\"Enter the desired password length: \"))\n",
    "complexity = int(input(\"Enter the desired complexity (1-4): \"))\n",
    "\n",
    "password = generate_password(length, complexity)\n",
    "print(f\"Generated password: {password}\")\n"
   ]
  },
  {
   "cell_type": "code",
   "execution_count": 3,
   "id": "24e0da2f",
   "metadata": {},
   "outputs": [
    {
     "name": "stdout",
     "output_type": "stream",
     "text": [
      "You are standing at a crossroads. Do you want to go left or right?\n",
      "> left\n",
      "You encounter a friendly dragon who gives you treasure. You win!\n"
     ]
    }
   ],
   "source": [
    "# 24. Create a program that implements a simple text-based adventure game with branching scenarios.\n",
    "\n",
    "def start_adventure():\n",
    "    print(\"You are standing at a crossroads. Do you want to go left or right?\")\n",
    "    choice = input(\"> \").lower()\n",
    "    \n",
    "    if choice == \"left\":\n",
    "        print(\"You encounter a friendly dragon who gives you treasure. You win!\")\n",
    "    elif choice == \"right\":\n",
    "        print(\"You fall into a trap and are eaten by wolves. Game over.\")\n",
    "    else:\n",
    "        print(\"That's not a valid direction. Try again.\")\n",
    "        start_adventure()\n",
    "\n",
    "start_adventure()\n"
   ]
  },
  {
   "cell_type": "code",
   "execution_count": 4,
   "id": "cc7ca840",
   "metadata": {},
   "outputs": [
    {
     "name": "stdout",
     "output_type": "stream",
     "text": [
      "Enter the coefficient a: 4\n",
      "Enter the constant b: 6\n",
      "x = -1.5\n"
     ]
    }
   ],
   "source": [
    "# 25. Build a program that solves a linear equation for x, considering different cases.\n",
    "\n",
    "def solve_linear_equation(a, b):\n",
    "    if a == 0:\n",
    "        if b == 0:\n",
    "            return \"Infinite solutions\"\n",
    "        else:\n",
    "            return \"No solution\"\n",
    "    else:\n",
    "        return f\"x = {-b / a}\"\n",
    "\n",
    "a = float(input(\"Enter the coefficient a: \"))\n",
    "b = float(input(\"Enter the constant b: \"))\n",
    "\n",
    "solution = solve_linear_equation(a, b)\n",
    "print(solution)\n"
   ]
  },
  {
   "cell_type": "code",
   "execution_count": 5,
   "id": "1e8e0bc4",
   "metadata": {},
   "outputs": [
    {
     "name": "stdout",
     "output_type": "stream",
     "text": [
      "What is the capital of France?\n",
      "a) Paris\n",
      "b) 4\n",
      "c) Blue\n",
      "Enter your answer (a/b/c): a\n",
      "Correct!\n",
      "\n",
      "What is 2 + 2?\n",
      "a) Paris\n",
      "b) 4\n",
      "c) Blue\n",
      "Enter your answer (a/b/c): b\n",
      "Correct!\n",
      "\n",
      "What is the color of the sky on a clear day?\n",
      "a) Paris\n",
      "b) 4\n",
      "c) Blue\n",
      "Enter your answer (a/b/c): c\n",
      "Correct!\n",
      "\n",
      "Your final score is: 3/3\n"
     ]
    }
   ],
   "source": [
    "# 26. Write a program that simulates a basic quiz game with multiple-choice questions and scoring.\n",
    "\n",
    "questions = {\n",
    "    \"What is the capital of France?\": \"a\",\n",
    "    \"What is 2 + 2?\": \"b\",\n",
    "    \"What is the color of the sky on a clear day?\": \"c\"\n",
    "}\n",
    "\n",
    "options = {\n",
    "    \"a\": \"Paris\",\n",
    "    \"b\": \"4\",\n",
    "    \"c\": \"Blue\"\n",
    "}\n",
    "\n",
    "score = 0\n",
    "\n",
    "for question, answer in questions.items():\n",
    "    print(question)\n",
    "    print(\"a) Paris\")\n",
    "    print(\"b) 4\")\n",
    "    print(\"c) Blue\")\n",
    "    \n",
    "    user_answer = input(\"Enter your answer (a/b/c): \").lower()\n",
    "    \n",
    "    if user_answer == answer:\n",
    "        print(\"Correct!\\n\")\n",
    "        score += 1\n",
    "    else:\n",
    "        print(\"Wrong!\\n\")\n",
    "\n",
    "print(f\"Your final score is: {score}/{len(questions)}\")\n"
   ]
  },
  {
   "cell_type": "code",
   "execution_count": 6,
   "id": "d73170fb",
   "metadata": {},
   "outputs": [
    {
     "name": "stdout",
     "output_type": "stream",
     "text": [
      "Enter a year: 2012\n",
      "2012 is not a prime year.\n"
     ]
    }
   ],
   "source": [
    "# 27. Develop a program that determines whether a given year is a prime number or not.\n",
    "\n",
    "def is_prime_year(year):\n",
    "    if year <= 1:\n",
    "        return False\n",
    "    for i in range(2, int(year ** 0.5) + 1):\n",
    "        if year % i == 0:\n",
    "            return False\n",
    "    return True\n",
    "\n",
    "year = int(input(\"Enter a year: \"))\n",
    "\n",
    "if is_prime_year(year):\n",
    "    print(f\"{year} is a prime year.\")\n",
    "else:\n",
    "    print(f\"{year} is not a prime year.\")\n"
   ]
  },
  {
   "cell_type": "code",
   "execution_count": 7,
   "id": "e9fec64a",
   "metadata": {},
   "outputs": [
    {
     "name": "stdout",
     "output_type": "stream",
     "text": [
      "Enter the first number: 12\n",
      "Enter the second number: 56\n",
      "Enter the third number: 45\n",
      "The numbers in ascending order are: 12.0, 45.0, 56.0\n"
     ]
    }
   ],
   "source": [
    "# 28. Create a program that sorts three numbers in ascending order using conditional statements.\n",
    "\n",
    "a = float(input(\"Enter the first number: \"))\n",
    "b = float(input(\"Enter the second number: \"))\n",
    "c = float(input(\"Enter the third number: \"))\n",
    "\n",
    "if a > b:\n",
    "    a, b = b, a\n",
    "if b > c:\n",
    "    b, c = c, b\n",
    "if a > b:\n",
    "    a, b = b, a\n",
    "\n",
    "print(f\"The numbers in ascending order are: {a}, {b}, {c}\")\n"
   ]
  },
  {
   "cell_type": "code",
   "execution_count": 8,
   "id": "7b331a53",
   "metadata": {},
   "outputs": [
    {
     "name": "stdout",
     "output_type": "stream",
     "text": [
      "Enter coefficient a: 3\n",
      "Enter coefficient b: 5\n",
      "Enter coefficient c: 4\n",
      "Enter coefficient d: 3\n",
      "Enter coefficient e: 4\n",
      "The roots of the quartic equation are: [-1.0864901 +0.6480555j  -1.0864901 -0.6480555j   0.25315677+0.87693649j\n",
      "  0.25315677-0.87693649j]\n"
     ]
    }
   ],
   "source": [
    "import numpy as np\n",
    "\n",
    "# 29. Build a program that determines the roots of a quartic equation using numerical methods.\n",
    "\n",
    "def solve_quartic(a, b, c, d, e):\n",
    "    coefficients = [a, b, c, d, e]\n",
    "    roots = np.roots(coefficients)\n",
    "    return roots\n",
    "\n",
    "a = float(input(\"Enter coefficient a: \"))\n",
    "b = float(input(\"Enter coefficient b: \"))\n",
    "c = float(input(\"Enter coefficient c: \"))\n",
    "d = float(input(\"Enter coefficient d: \"))\n",
    "e = float(input(\"Enter coefficient e: \"))\n",
    "\n",
    "roots = solve_quartic(a, b, c, d, e)\n",
    "print(\"The roots of the quartic equation are:\", roots)\n"
   ]
  },
  {
   "cell_type": "code",
   "execution_count": 10,
   "id": "de36f5ca",
   "metadata": {},
   "outputs": [
    {
     "name": "stdout",
     "output_type": "stream",
     "text": [
      "Enter your weight in kilograms: 76\n",
      "Enter your height in meters: 3\n",
      "Your BMI is: 8.44\n",
      "Underweight: Eat more and exercise!\n"
     ]
    }
   ],
   "source": [
    "# 30. Write a program that calculates the BMI (Body Mass Index) and provides health recommendations based on the user's input.\n",
    "\n",
    "def calculate_bmi(weight, height):\n",
    "    bmi = weight / (height ** 2)\n",
    "    return bmi\n",
    "\n",
    "def get_health_recommendation(bmi):\n",
    "    if bmi < 18.5:\n",
    "        return \"Underweight: Eat more and exercise!\"\n",
    "    elif 18.5 <= bmi < 24.9:\n",
    "        return \"Normal weight: Keep up the good work!\"\n",
    "    elif 25 <= bmi < 29.9:\n",
    "        return \"Overweight: Consider a balanced diet and more exercise.\"\n",
    "    else:\n",
    "        return \"Obesity: Consult with a healthcare provider.\"\n",
    "\n",
    "weight = float(input(\"Enter your weight in kilograms: \"))\n",
    "height = float(input(\"Enter your height in meters: \"))\n",
    "\n",
    "bmi = calculate_bmi(weight, height)\n",
    "recommendation = get_health_recommendation(bmi)\n",
    "\n",
    "print(f\"Your BMI is: {bmi:.2f}\")\n",
    "print(recommendation)\n"
   ]
  },
  {
   "cell_type": "code",
   "execution_count": 11,
   "id": "1c794d7f",
   "metadata": {},
   "outputs": [
    {
     "name": "stdout",
     "output_type": "stream",
     "text": [
      "Enter a password to validate: qwertyuiop\n",
      "Password must contain at least one uppercase letter.\n"
     ]
    }
   ],
   "source": [
    "import re\n",
    "\n",
    "# 31. Create a program that validates a password based on complexity rules (length, characters, etc.).\n",
    "\n",
    "def validate_password(password):\n",
    "    if len(password) < 8:\n",
    "        return \"Password must be at least 8 characters long.\"\n",
    "    if not re.search(\"[a-z]\", password):\n",
    "        return \"Password must contain at least one lowercase letter.\"\n",
    "    if not re.search(\"[A-Z]\", password):\n",
    "        return \"Password must contain at least one uppercase letter.\"\n",
    "    if not re.search(\"[0-9]\", password):\n",
    "        return \"Password must contain at least one digit.\"\n",
    "    if not re.search(\"[!@#$%^&*(),.?\\\":{}|<>]\", password):\n",
    "        return \"Password must contain at least one special character.\"\n",
    "    return \"Password is valid.\"\n",
    "\n",
    "password = input(\"Enter a password to validate: \")\n",
    "result = validate_password(password)\n",
    "print(result)\n"
   ]
  },
  {
   "cell_type": "code",
   "execution_count": 12,
   "id": "8952d509",
   "metadata": {},
   "outputs": [
    {
     "name": "stdout",
     "output_type": "stream",
     "text": [
      "Enter 'add' for addition or 'subtract' for subtraction: add\n",
      "Result:\n",
      "[10, 10, 10]\n",
      "[10, 10, 10]\n",
      "[10, 10, 10]\n"
     ]
    }
   ],
   "source": [
    "# 32. Develop a program that performs matrix addition and subtraction based on user input.\n",
    "\n",
    "def matrix_addition(matrix1, matrix2):\n",
    "    return [[matrix1[i][j] + matrix2[i][j] for j in range(len(matrix1[0]))] for i in range(len(matrix1))]\n",
    "\n",
    "def matrix_subtraction(matrix1, matrix2):\n",
    "    return [[matrix1[i][j] - matrix2[i][j] for j in range(len(matrix1[0]))] for i in range(len(matrix1))]\n",
    "\n",
    "matrix1 = [\n",
    "    [1, 2, 3],\n",
    "    [4, 5, 6],\n",
    "    [7, 8, 9]\n",
    "]\n",
    "\n",
    "matrix2 = [\n",
    "    [9, 8, 7],\n",
    "    [6, 5, 4],\n",
    "    [3, 2, 1]\n",
    "]\n",
    "\n",
    "operation = input(\"Enter 'add' for addition or 'subtract' for subtraction: \").lower()\n",
    "\n",
    "if operation == \"add\":\n",
    "    result = matrix_addition(matrix1, matrix2)\n",
    "elif operation == \"subtract\":\n",
    "    result = matrix_subtraction(matrix1, matrix2)\n",
    "else:\n",
    "    print(\"Invalid operation.\")\n",
    "    result = None\n",
    "\n",
    "if result:\n",
    "    print(\"Result:\")\n",
    "    for row in result:\n",
    "        print(row)\n"
   ]
  },
  {
   "cell_type": "code",
   "execution_count": 13,
   "id": "08ad30b8",
   "metadata": {},
   "outputs": [
    {
     "name": "stdout",
     "output_type": "stream",
     "text": [
      "Enter the first number: 2\n",
      "Enter the second number: 5\n",
      "The GCD of 2 and 5 is: 1\n"
     ]
    }
   ],
   "source": [
    "# 33. Write a program that calculates the greatest common divisor (GCD) of two numbers using the Euclidean algorithm.\n",
    "\n",
    "def gcd(a, b):\n",
    "    while b:\n",
    "        a, b = b, a % b\n",
    "    return a\n",
    "\n",
    "num1 = int(input(\"Enter the first number: \"))\n",
    "num2 = int(input(\"Enter the second number: \"))\n",
    "\n",
    "result = gcd(num1, num2)\n",
    "print(f\"The GCD of {num1} and {num2} is: {result}\")\n"
   ]
  },
  {
   "cell_type": "code",
   "execution_count": 14,
   "id": "109f0a13",
   "metadata": {},
   "outputs": [
    {
     "name": "stdout",
     "output_type": "stream",
     "text": [
      "Result of matrix multiplication:\n",
      "[58, 64]\n",
      "[139, 154]\n"
     ]
    }
   ],
   "source": [
    "# 34. Build a program that performs matrix multiplication using nested loops and conditional statements.\n",
    "\n",
    "def matrix_multiplication(matrix1, matrix2):\n",
    "    result = [[0 for _ in range(len(matrix2[0]))] for _ in range(len(matrix1))]\n",
    "    \n",
    "    for i in range(len(matrix1)):\n",
    "        for j in range(len(matrix2[0])):\n",
    "            for k in range(len(matrix2)):\n",
    "                result[i][j] += matrix1[i][k] * matrix2[k][j]\n",
    "    \n",
    "    return result\n",
    "\n",
    "matrix1 = [\n",
    "    [1, 2, 3],\n",
    "    [4, 5, 6]\n",
    "]\n",
    "\n",
    "matrix2 = [\n",
    "    [7, 8],\n",
    "    [9, 10],\n",
    "    [11, 12]\n",
    "]\n",
    "\n",
    "result = matrix_multiplication(matrix1, matrix2)\n",
    "print(\"Result of matrix multiplication:\")\n",
    "for row in result:\n",
    "    print(row)\n"
   ]
  },
  {
   "cell_type": "code",
   "execution_count": 17,
   "id": "81db1d93",
   "metadata": {},
   "outputs": [
    {
     "name": "stdout",
     "output_type": "stream",
     "text": [
      "  |   |  \n",
      "-----\n",
      "  |   |  \n",
      "-----\n",
      "  |   |  \n",
      "-----\n",
      "Player X, enter the row (0, 1, or 2): 0\n",
      "Player X, enter the column (0, 1, or 2): 0\n",
      "X |   |  \n",
      "-----\n",
      "  |   |  \n",
      "-----\n",
      "  |   |  \n",
      "-----\n",
      "Player O, enter the row (0, 1, or 2): 0\n",
      "Player O, enter the column (0, 1, or 2): 1\n",
      "X | O |  \n",
      "-----\n",
      "  |   |  \n",
      "-----\n",
      "  |   |  \n",
      "-----\n",
      "Player X, enter the row (0, 1, or 2): 0\n",
      "Player X, enter the column (0, 1, or 2): 2\n",
      "X | O | X\n",
      "-----\n",
      "  |   |  \n",
      "-----\n",
      "  |   |  \n",
      "-----\n",
      "Player O, enter the row (0, 1, or 2): 1\n",
      "Player O, enter the column (0, 1, or 2): 1\n",
      "X | O | X\n",
      "-----\n",
      "  | O |  \n",
      "-----\n",
      "  |   |  \n",
      "-----\n",
      "Player X, enter the row (0, 1, or 2): 1\n",
      "Player X, enter the column (0, 1, or 2): 0\n",
      "X | O | X\n",
      "-----\n",
      "X | O |  \n",
      "-----\n",
      "  |   |  \n",
      "-----\n",
      "Player O, enter the row (0, 1, or 2): 2\n",
      "Player O, enter the column (0, 1, or 2): 1\n",
      "X | O | X\n",
      "-----\n",
      "X | O |  \n",
      "-----\n",
      "  | O |  \n",
      "-----\n",
      "Player O wins!\n"
     ]
    }
   ],
   "source": [
    "# 35. Create a program that simulates a basic text-based tic-tac-toe game against the computer.\n",
    "\n",
    "def print_board(board):\n",
    "    for row in board:\n",
    "        print(\" | \".join(row))\n",
    "        print(\"-\" * 5)\n",
    "\n",
    "def check_winner(board, player):\n",
    "    for row in board:\n",
    "        if all([cell == player for cell in row]):\n",
    "            return True\n",
    "    for col in range(3):\n",
    "        if all([board[row][col] == player for row in range(3)]):\n",
    "            return True\n",
    "    if all([board[i][i] == player for i in range(3)]) or \\\n",
    "       all([board[i][2 - i] == player for i in range(3)]):\n",
    "        return True\n",
    "    return False\n",
    "\n",
    "def is_board_full(board):\n",
    "    return all([cell != \" \" for row in board for cell in row])\n",
    "\n",
    "def tic_tac_toe():\n",
    "    board = [[\" \" for _ in range(3)] for _ in range(3)]\n",
    "    current_player = \"X\"\n",
    "    \n",
    "    while True:\n",
    "        print_board(board)\n",
    "        \n",
    "        row = int(input(f\"Player {current_player}, enter the row (0, 1, or 2): \"))\n",
    "        col = int(input(f\"Player {current_player}, enter the column (0, 1, or 2): \"))\n",
    "        \n",
    "        if board[row][col] == \" \":\n",
    "            board[row][col] = current_player\n",
    "            if check_winner(board, current_player):\n",
    "                print_board(board)\n",
    "                print(f\"Player {current_player} wins!\")\n",
    "                break\n",
    "            elif is_board_full(board):\n",
    "                print_board(board)\n",
    "                print(\"It's a tie!\")\n",
    "                break\n",
    "            current_player = \"O\" if current_player == \"X\" else \"X\"\n",
    "        else:\n",
    "            print(\"That spot is already taken. Try again.\")\n",
    "            \n",
    "tic_tac_toe()\n"
   ]
  },
  {
   "cell_type": "code",
   "execution_count": 18,
   "id": "0aa77c6f",
   "metadata": {},
   "outputs": [
    {
     "name": "stdout",
     "output_type": "stream",
     "text": [
      "Enter the number of Fibonacci terms to generate: 4\n",
      "The first 4 terms of the Fibonacci sequence are: [0, 1, 1, 2]\n"
     ]
    }
   ],
   "source": [
    "# 36. Write a program that generates Fibonacci numbers up to a specified term using iterative methods.\n",
    "\n",
    "def generate_fibonacci(n):\n",
    "    fib_sequence = [0, 1]\n",
    "    while len(fib_sequence) < n:\n",
    "        fib_sequence.append(fib_sequence[-1] + fib_sequence[-2])\n",
    "    return fib_sequence[:n]\n",
    "\n",
    "n = int(input(\"Enter the number of Fibonacci terms to generate: \"))\n",
    "fib_sequence = generate_fibonacci(n)\n",
    "print(f\"The first {n} terms of the Fibonacci sequence are: {fib_sequence}\")\n"
   ]
  },
  {
   "cell_type": "code",
   "execution_count": 19,
   "id": "53aead46",
   "metadata": {},
   "outputs": [
    {
     "name": "stdout",
     "output_type": "stream",
     "text": [
      "Enter the term number to find in the Fibonacci sequence: 4\n",
      "The 4th term in the Fibonacci sequence is: 3\n"
     ]
    }
   ],
   "source": [
    "# 37. Develop a program that calculates the nth term of the Fibonacci sequence using memoization.\n",
    "\n",
    "def fibonacci(n, memo={}):\n",
    "    if n in memo:\n",
    "        return memo[n]\n",
    "    if n <= 1:\n",
    "        return n\n",
    "    memo[n] = fibonacci(n - 1, memo) + fibonacci(n - 2, memo)\n",
    "    return memo[n]\n",
    "\n",
    "n = int(input(\"Enter the term number to find in the Fibonacci sequence: \"))\n",
    "result = fibonacci(n)\n",
    "print(f\"The {n}th term in the Fibonacci sequence is: {result}\")\n"
   ]
  },
  {
   "cell_type": "code",
   "execution_count": 20,
   "id": "d7f2cc20",
   "metadata": {},
   "outputs": [
    {
     "name": "stdout",
     "output_type": "stream",
     "text": [
      "Enter the year: 2022\n",
      "Enter the month (1-12): 3\n",
      "     March 2022\n",
      "Mo Tu We Th Fr Sa Su\n",
      "    1  2  3  4  5  6\n",
      " 7  8  9 10 11 12 13\n",
      "14 15 16 17 18 19 20\n",
      "21 22 23 24 25 26 27\n",
      "28 29 30 31\n",
      "\n"
     ]
    }
   ],
   "source": [
    "import calendar\n",
    "\n",
    "# 38. Create a program that generates a calendar for a given month and year using conditional statements.\n",
    "\n",
    "year = int(input(\"Enter the year: \"))\n",
    "month = int(input(\"Enter the month (1-12): \"))\n",
    "\n",
    "if 1 <= month <= 12:\n",
    "    print(calendar.month(year, month))\n",
    "else:\n",
    "    print(\"Invalid month entered. Please enter a month between 1 and 12.\")\n"
   ]
  },
  {
   "cell_type": "code",
   "execution_count": 21,
   "id": "d160e699",
   "metadata": {},
   "outputs": [
    {
     "name": "stdout",
     "output_type": "stream",
     "text": [
      "Your hand: ['4', '6'] (Total: 10)\n",
      "Do you want to 'hit' or 'stand'? hit\n",
      "Your hand: ['4', '6', '9'] (Total: 19)\n",
      "Do you want to 'hit' or 'stand'? stand\n",
      "Computer's hand: ['8', '2', '3', '3', '8'] (Total: 24)\n",
      "You win!\n"
     ]
    }
   ],
   "source": [
    "import random\n",
    "\n",
    "# 39. Build a program that simulates a basic text-based blackjack game against the computer.\n",
    "\n",
    "def draw_card():\n",
    "    return random.choice([\"2\", \"3\", \"4\", \"5\", \"6\", \"7\", \"8\", \"9\", \"10\", \"J\", \"Q\", \"K\", \"A\"])\n",
    "\n",
    "def card_value(card):\n",
    "    if card in [\"J\", \"Q\", \"K\"]:\n",
    "        return 10\n",
    "    elif card == \"A\":\n",
    "        return 11\n",
    "    else:\n",
    "        return int(card)\n",
    "\n",
    "def calculate_hand(hand):\n",
    "    value = sum(card_value(card) for card in hand)\n",
    "    aces = hand.count(\"A\")\n",
    "    while value > 21 and aces:\n",
    "        value -= 10\n",
    "        aces -= 1\n",
    "    return value\n",
    "\n",
    "def blackjack():\n",
    "    player_hand = [draw_card(), draw_card()]\n",
    "    computer_hand = [draw_card(), draw_card()]\n",
    "    \n",
    "    while True:\n",
    "        print(f\"Your hand: {player_hand} (Total: {calculate_hand(player_hand)})\")\n",
    "        if calculate_hand(player_hand) > 21:\n",
    "            print(\"You bust! Computer wins.\")\n",
    "            return\n",
    "        \n",
    "        action = input(\"Do you want to 'hit' or 'stand'? \").lower()\n",
    "        if action == \"hit\":\n",
    "            player_hand.append(draw_card())\n",
    "        elif action == \"stand\":\n",
    "            break\n",
    "        else:\n",
    "            print(\"Invalid action. Please enter 'hit' or 'stand'.\")\n",
    "    \n",
    "    while calculate_hand(computer_hand) < 17:\n",
    "        computer_hand.append(draw_card())\n",
    "    \n",
    "    print(f\"Computer's hand: {computer_hand} (Total: {calculate_hand(computer_hand)})\")\n",
    "    \n",
    "    if calculate_hand(computer_hand) > 21 or calculate_hand(player_hand) > calculate_hand(computer_hand):\n",
    "        print(\"You win!\")\n",
    "    elif calculate_hand(player_hand) == calculate_hand(computer_hand):\n",
    "        print(\"It's a tie!\")\n",
    "    else:\n",
    "        print(\"Computer wins!\")\n",
    "\n",
    "blackjack()\n"
   ]
  },
  {
   "cell_type": "code",
   "execution_count": 22,
   "id": "3e39a2e7",
   "metadata": {},
   "outputs": [
    {
     "name": "stdout",
     "output_type": "stream",
     "text": [
      "Enter a number to find its prime factors: 45\n",
      "The prime factors of 45 are: [3, 3, 5]\n"
     ]
    }
   ],
   "source": [
    "# 40. Write a program that generates the prime factors of a given number using trial division.\n",
    "\n",
    "def prime_factors(n):\n",
    "    factors = []\n",
    "    \n",
    "    while n % 2 == 0:\n",
    "        factors.append(2)\n",
    "        n = n // 2\n",
    "    \n",
    "    for i in range(3, int(n**0.5) + 1, 2):\n",
    "        while n % i == 0:\n",
    "            factors.append(i)\n",
    "            n = n // i\n",
    "    \n",
    "    if n > 2:\n",
    "        factors.append(n)\n",
    "    \n",
    "    return factors\n",
    "\n",
    "number = int(input(\"Enter a number to find its prime factors: \"))\n",
    "factors = prime_factors(number)\n",
    "print(f\"The prime factors of {number} are: {factors}\")\n"
   ]
  },
  {
   "cell_type": "code",
   "execution_count": null,
   "id": "3b2e88f8",
   "metadata": {},
   "outputs": [],
   "source": []
  }
 ],
 "metadata": {
  "kernelspec": {
   "display_name": "Python 3 (ipykernel)",
   "language": "python",
   "name": "python3"
  },
  "language_info": {
   "codemirror_mode": {
    "name": "ipython",
    "version": 3
   },
   "file_extension": ".py",
   "mimetype": "text/x-python",
   "name": "python",
   "nbconvert_exporter": "python",
   "pygments_lexer": "ipython3",
   "version": "3.9.12"
  }
 },
 "nbformat": 4,
 "nbformat_minor": 5
}
